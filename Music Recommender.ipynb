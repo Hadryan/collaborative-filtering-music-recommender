{
 "cells": [
  {
   "cell_type": "markdown",
   "id": "adult-charge",
   "metadata": {},
   "source": [
    "# Collaborative Filtering Based Music Artist Recommendation\n",
    "\n",
    "This notebook illustrates a technique to recommend similar artists to users based on users music listening history. For this task, I have utilized the Last.fm dataset ([link](http://files.grouplens.org/datasets/hetrec2011/hetrec2011-lastfm-readme.txt)), which contains music listening history for 2000 users from Last.fm."
   ]
  },
  {
   "cell_type": "markdown",
   "id": "recreational-cancellation",
   "metadata": {},
   "source": [
    "## Part 1: Loading the Data\n",
    "\n",
    "Data is read from a tab separated file into a list of dictionaries. I am also loading the artist meta so that we can print out artist names instead of the IDs."
   ]
  },
  {
   "cell_type": "code",
   "execution_count": 2,
   "id": "lonely-guidance",
   "metadata": {},
   "outputs": [],
   "source": [
    "from collections import defaultdict\n",
    "\n",
    "userArtistPath = \"/Users/archit-p/sources/github/data-science/datasets/hetrec2011-lastfm-2k/user_artists.dat\"\n",
    "artistMetaPath = \"/Users/archit-p/sources/github/data-science/datasets/hetrec2011-lastfm-2k/artists.dat\""
   ]
  },
  {
   "cell_type": "code",
   "execution_count": 3,
   "id": "naked-estonia",
   "metadata": {},
   "outputs": [],
   "source": [
    "def loadData():\n",
    "    file = open(userArtistPath, 'r')\n",
    "\n",
    "    header = file.readline()\n",
    "    header = header.strip().split('\\t')\n",
    "\n",
    "    global dataset\n",
    "    dataset = []\n",
    "    \n",
    "    for line in file:\n",
    "        fields = line.strip().split('\\t')\n",
    "        d = dict(zip(header, fields))\n",
    "        d['userID'] = int(d['userID'])\n",
    "        d['artistID'] = int(d['artistID'])\n",
    "        d['weight'] = int(d['weight'])\n",
    "        dataset.append(d)"
   ]
  },
  {
   "cell_type": "code",
   "execution_count": 4,
   "id": "worthy-engine",
   "metadata": {},
   "outputs": [],
   "source": [
    "loadData()"
   ]
  },
  {
   "cell_type": "markdown",
   "id": "spectacular-variety",
   "metadata": {},
   "source": [
    "Each row of the dataset looks as follows"
   ]
  },
  {
   "cell_type": "code",
   "execution_count": 5,
   "id": "sorted-insured",
   "metadata": {},
   "outputs": [
    {
     "data": {
      "text/plain": [
       "{'userID': 2, 'artistID': 51, 'weight': 13883}"
      ]
     },
     "execution_count": 5,
     "metadata": {},
     "output_type": "execute_result"
    }
   ],
   "source": [
    "dataset[0]"
   ]
  },
  {
   "cell_type": "markdown",
   "id": "behavioral-scenario",
   "metadata": {},
   "source": [
    "Now, loading artist meta for better understanding the results."
   ]
  },
  {
   "cell_type": "code",
   "execution_count": 6,
   "id": "expressed-person",
   "metadata": {},
   "outputs": [],
   "source": [
    "def loadMeta():\n",
    "    file = open(artistMetaPath, 'r')\n",
    "\n",
    "    header = file.readline()\n",
    "    header = header.strip().split('\\t')\n",
    "    \n",
    "    global artistMeta\n",
    "    artistMeta = defaultdict(dict)\n",
    "    \n",
    "    for line in file:\n",
    "        fields = line.strip().split('\\t')\n",
    "        d = dict(zip(header, fields))\n",
    "        d['id'] = int(d['id'])\n",
    "        artistMeta[d['id']] = d"
   ]
  },
  {
   "cell_type": "code",
   "execution_count": 7,
   "id": "hindu-bronze",
   "metadata": {},
   "outputs": [
    {
     "name": "stdout",
     "output_type": "stream",
     "text": [
      "{'id': 3317, 'name': 'Drake', 'url': 'http://www.last.fm/music/Drake', 'pictureURL': 'http://userserve-ak.last.fm/serve/252/31573727.jpg'}\n"
     ]
    }
   ],
   "source": [
    "loadMeta()"
   ]
  },
  {
   "cell_type": "markdown",
   "id": "massive-invasion",
   "metadata": {},
   "source": [
    "Artist meta contains the name of artist, profile URL on Last.fm and an image of the artist."
   ]
  },
  {
   "cell_type": "code",
   "execution_count": 8,
   "id": "aggregate-hometown",
   "metadata": {},
   "outputs": [
    {
     "data": {
      "text/plain": [
       "{'id': 51,\n",
       " 'name': 'Duran Duran',\n",
       " 'url': 'http://www.last.fm/music/Duran+Duran',\n",
       " 'pictureURL': 'http://userserve-ak.last.fm/serve/252/155668.jpg'}"
      ]
     },
     "execution_count": 8,
     "metadata": {},
     "output_type": "execute_result"
    }
   ],
   "source": [
    "artistMeta[51]"
   ]
  },
  {
   "cell_type": "markdown",
   "id": "accompanied-sharp",
   "metadata": {},
   "source": [
    "## Part 2: Finding Similarities\n",
    "\n",
    "To perform collaborative filtering, I have created set of users for a given artist and set of artists that a particular user has listened to."
   ]
  },
  {
   "cell_type": "code",
   "execution_count": 9,
   "id": "suffering-thread",
   "metadata": {},
   "outputs": [],
   "source": [
    "usersPerArtist = defaultdict(set)\n",
    "artistsPerUser = defaultdict(set)\n",
    "\n",
    "for d in dataset:\n",
    "    user, artist = d['userID'], d['artistID']\n",
    "    usersPerArtist[artist].add(user)\n",
    "    artistsPerUser[user].add(artist)"
   ]
  },
  {
   "cell_type": "markdown",
   "id": "alien-australian",
   "metadata": {},
   "source": [
    "To calculate similarities between sets, I use Jaccard Similarity."
   ]
  },
  {
   "cell_type": "code",
   "execution_count": 10,
   "id": "cordless-detector",
   "metadata": {},
   "outputs": [],
   "source": [
    "def Jaccard(s1, s2):\n",
    "    numer = len(s1.intersection(s2))\n",
    "    denom = len(s1.union(s2))\n",
    "    return numer / denom"
   ]
  },
  {
   "cell_type": "markdown",
   "id": "encouraging-giving",
   "metadata": {},
   "source": [
    "The similarity function rates the artists based on the Jaccard Similarity between the set of users who have listened to the two artists."
   ]
  },
  {
   "cell_type": "code",
   "execution_count": 11,
   "id": "faced-columbia",
   "metadata": {},
   "outputs": [],
   "source": [
    "def mostSimilar(iD, n):\n",
    "    similarities = []\n",
    "    users = usersPerArtist[iD]\n",
    "    for i2 in usersPerArtist:\n",
    "        if i2 == iD: continue\n",
    "        sim = Jaccard(users, usersPerArtist[i2])\n",
    "        similarities.append((sim,i2))\n",
    "    similarities.sort(reverse=True)\n",
    "    return similarities[:n]"
   ]
  },
  {
   "cell_type": "markdown",
   "id": "alpha-lodge",
   "metadata": {},
   "source": [
    "### Making a recommendation\n",
    "\n",
    "To make a recommendation, the function takes artistID and number of recommendations as input. I'll be using Kanye West as an example."
   ]
  },
  {
   "cell_type": "code",
   "execution_count": 13,
   "id": "formed-university",
   "metadata": {},
   "outputs": [
    {
     "data": {
      "text/plain": [
       "{'id': 331,\n",
       " 'name': 'Kanye West',\n",
       " 'url': 'http://www.last.fm/music/Kanye+West',\n",
       " 'pictureURL': 'http://userserve-ak.last.fm/serve/252/8942513.jpg'}"
      ]
     },
     "execution_count": 13,
     "metadata": {},
     "output_type": "execute_result"
    }
   ],
   "source": [
    "artistMeta[331]"
   ]
  },
  {
   "cell_type": "markdown",
   "id": "wrapped-publication",
   "metadata": {},
   "source": [
    "The similarity function returns a list of artists along with the similarity score."
   ]
  },
  {
   "cell_type": "code",
   "execution_count": 14,
   "id": "recent-persian",
   "metadata": {},
   "outputs": [
    {
     "data": {
      "text/plain": [
       "[(0.22598870056497175, 1613),\n",
       " (0.18421052631578946, 468),\n",
       " (0.17763157894736842, 527),\n",
       " (0.1736111111111111, 475),\n",
       " (0.17094017094017094, 329),\n",
       " (0.16097560975609757, 907),\n",
       " (0.15760869565217392, 327),\n",
       " (0.15184381778741865, 295),\n",
       " (0.14838709677419354, 547),\n",
       " (0.1437125748502994, 330)]"
      ]
     },
     "execution_count": 14,
     "metadata": {},
     "output_type": "execute_result"
    }
   ],
   "source": [
    "mostSimilar(artistMeta[331]['id'], 10)"
   ]
  },
  {
   "cell_type": "code",
   "execution_count": 15,
   "id": "reverse-platinum",
   "metadata": {},
   "outputs": [
    {
     "data": {
      "text/plain": [
       "['Jay-Z',\n",
       " 'Usher',\n",
       " \"Lil' Wayne\",\n",
       " 'Eminem',\n",
       " 'Justin Timberlake',\n",
       " 'Timbaland',\n",
       " 'Chris Brown',\n",
       " 'Beyoncé',\n",
       " 'Kid Cudi',\n",
       " 'T.I.']"
      ]
     },
     "execution_count": 15,
     "metadata": {},
     "output_type": "execute_result"
    }
   ],
   "source": [
    "[artistMeta[x[1]]['name'] for x in mostSimilar(artistMeta[331]['id'], 10)]"
   ]
  },
  {
   "cell_type": "markdown",
   "id": "located-deputy",
   "metadata": {},
   "source": [
    "Using the artist meta loaded earlier, we can print out the artist info."
   ]
  }
 ],
 "metadata": {
  "kernelspec": {
   "display_name": "Python 3",
   "language": "python",
   "name": "python3"
  },
  "language_info": {
   "codemirror_mode": {
    "name": "ipython",
    "version": 3
   },
   "file_extension": ".py",
   "mimetype": "text/x-python",
   "name": "python",
   "nbconvert_exporter": "python",
   "pygments_lexer": "ipython3",
   "version": "3.9.0"
  }
 },
 "nbformat": 4,
 "nbformat_minor": 5
}
